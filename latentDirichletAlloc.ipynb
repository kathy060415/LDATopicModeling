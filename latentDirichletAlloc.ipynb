{
 "cells": [
  {
   "cell_type": "markdown",
   "id": "8cc99d08",
   "metadata": {},
   "source": [
    "## jupyter notebook venv"
   ]
  },
  {
   "cell_type": "code",
   "execution_count": 1,
   "id": "52ca6814",
   "metadata": {},
   "outputs": [
    {
     "name": "stdout",
     "output_type": "stream",
     "text": [
      "Requirement already satisfied: ipykernel in c:\\users\\kathy\\anaconda3\\lib\\site-packages (6.4.1)\n",
      "Requirement already satisfied: debugpy<2.0,>=1.0.0 in c:\\users\\kathy\\anaconda3\\lib\\site-packages (from ipykernel) (1.4.1)\n",
      "Requirement already satisfied: jupyter-client<8.0 in c:\\users\\kathy\\anaconda3\\lib\\site-packages (from ipykernel) (6.1.12)\n",
      "Requirement already satisfied: traitlets<6.0,>=4.1.0 in c:\\users\\kathy\\anaconda3\\lib\\site-packages (from ipykernel) (5.1.0)\n",
      "Requirement already satisfied: matplotlib-inline<0.2.0,>=0.1.0 in c:\\users\\kathy\\anaconda3\\lib\\site-packages (from ipykernel) (0.1.2)\n",
      "Requirement already satisfied: ipython-genutils in c:\\users\\kathy\\anaconda3\\lib\\site-packages (from ipykernel) (0.2.0)\n",
      "Requirement already satisfied: ipython<8.0,>=7.23.1 in c:\\users\\kathy\\anaconda3\\lib\\site-packages (from ipykernel) (7.29.0)\n",
      "Requirement already satisfied: tornado<7.0,>=4.2 in c:\\users\\kathy\\anaconda3\\lib\\site-packages (from ipykernel) (6.1)\n",
      "Requirement already satisfied: decorator in c:\\users\\kathy\\anaconda3\\lib\\site-packages (from ipython<8.0,>=7.23.1->ipykernel) (5.1.0)\n",
      "Requirement already satisfied: pygments in c:\\users\\kathy\\anaconda3\\lib\\site-packages (from ipython<8.0,>=7.23.1->ipykernel) (2.10.0)\n",
      "Requirement already satisfied: pickleshare in c:\\users\\kathy\\anaconda3\\lib\\site-packages (from ipython<8.0,>=7.23.1->ipykernel) (0.7.5)\n",
      "Requirement already satisfied: colorama in c:\\users\\kathy\\anaconda3\\lib\\site-packages (from ipython<8.0,>=7.23.1->ipykernel) (0.4.4)\n",
      "Requirement already satisfied: backcall in c:\\users\\kathy\\anaconda3\\lib\\site-packages (from ipython<8.0,>=7.23.1->ipykernel) (0.2.0)\n",
      "Requirement already satisfied: prompt-toolkit!=3.0.0,!=3.0.1,<3.1.0,>=2.0.0 in c:\\users\\kathy\\anaconda3\\lib\\site-packages (from ipython<8.0,>=7.23.1->ipykernel) (3.0.20)\n",
      "Requirement already satisfied: jedi>=0.16 in c:\\users\\kathy\\anaconda3\\lib\\site-packages (from ipython<8.0,>=7.23.1->ipykernel) (0.18.0)\n",
      "Requirement already satisfied: setuptools>=18.5 in c:\\users\\kathy\\anaconda3\\lib\\site-packages (from ipython<8.0,>=7.23.1->ipykernel) (58.0.4)\n",
      "Requirement already satisfied: parso<0.9.0,>=0.8.0 in c:\\users\\kathy\\anaconda3\\lib\\site-packages (from jedi>=0.16->ipython<8.0,>=7.23.1->ipykernel) (0.8.2)\n",
      "Requirement already satisfied: jupyter-core>=4.6.0 in c:\\users\\kathy\\anaconda3\\lib\\site-packages (from jupyter-client<8.0->ipykernel) (4.8.1)\n",
      "Requirement already satisfied: pyzmq>=13 in c:\\users\\kathy\\anaconda3\\lib\\site-packages (from jupyter-client<8.0->ipykernel) (22.2.1)\n",
      "Requirement already satisfied: python-dateutil>=2.1 in c:\\users\\kathy\\anaconda3\\lib\\site-packages (from jupyter-client<8.0->ipykernel) (2.8.2)\n",
      "Requirement already satisfied: pywin32>=1.0 in c:\\users\\kathy\\anaconda3\\lib\\site-packages (from jupyter-core>=4.6.0->jupyter-client<8.0->ipykernel) (228)\n",
      "Requirement already satisfied: wcwidth in c:\\users\\kathy\\anaconda3\\lib\\site-packages (from prompt-toolkit!=3.0.0,!=3.0.1,<3.1.0,>=2.0.0->ipython<8.0,>=7.23.1->ipykernel) (0.2.5)\n",
      "Requirement already satisfied: six>=1.5 in c:\\users\\kathy\\anaconda3\\lib\\site-packages (from python-dateutil>=2.1->jupyter-client<8.0->ipykernel) (1.16.0)\n"
     ]
    }
   ],
   "source": [
    "!pip install --user ipykernel"
   ]
  },
  {
   "cell_type": "code",
   "execution_count": 2,
   "id": "5bb5cf1c",
   "metadata": {},
   "outputs": [
    {
     "name": "stdout",
     "output_type": "stream",
     "text": [
      "Installed kernelspec myenv in C:\\Users\\kathy\\AppData\\Roaming\\jupyter\\kernels\\myenv\n"
     ]
    }
   ],
   "source": [
    "!python -m ipykernel install --user --name=myenv"
   ]
  },
  {
   "cell_type": "markdown",
   "id": "5c73a1d2",
   "metadata": {},
   "source": [
    "## Using sklearn"
   ]
  },
  {
   "cell_type": "code",
   "execution_count": 3,
   "id": "067183d3",
   "metadata": {},
   "outputs": [],
   "source": [
    "import pandas as pd\n",
    "import numpy as np"
   ]
  },
  {
   "cell_type": "code",
   "execution_count": 5,
   "id": "70852b10",
   "metadata": {},
   "outputs": [
    {
     "data": {
      "text/html": [
       "<div>\n",
       "<style scoped>\n",
       "    .dataframe tbody tr th:only-of-type {\n",
       "        vertical-align: middle;\n",
       "    }\n",
       "\n",
       "    .dataframe tbody tr th {\n",
       "        vertical-align: top;\n",
       "    }\n",
       "\n",
       "    .dataframe thead th {\n",
       "        text-align: right;\n",
       "    }\n",
       "</style>\n",
       "<table border=\"1\" class=\"dataframe\">\n",
       "  <thead>\n",
       "    <tr style=\"text-align: right;\">\n",
       "      <th></th>\n",
       "      <th>Date</th>\n",
       "      <th>Rating</th>\n",
       "      <th>Review</th>\n",
       "      <th>Vehicle Name</th>\n",
       "      <th>Miles Driven on Tires</th>\n",
       "      <th>Driving Conditions</th>\n",
       "      <th>Location</th>\n",
       "      <th>Driving Style</th>\n",
       "      <th>Year</th>\n",
       "      <th>Month</th>\n",
       "      <th>Day</th>\n",
       "    </tr>\n",
       "  </thead>\n",
       "  <tbody>\n",
       "    <tr>\n",
       "      <th>0</th>\n",
       "      <td>2021-12-30</td>\n",
       "      <td>4.0</td>\n",
       "      <td>All the old people that complain about the whi...</td>\n",
       "      <td>1987 Chevrolet Monte Carlo SS</td>\n",
       "      <td>30,000 Miles</td>\n",
       "      <td>Combined Highway/City</td>\n",
       "      <td>KEARNEYSVILLE, WV</td>\n",
       "      <td>Spirited</td>\n",
       "      <td>2021</td>\n",
       "      <td>12</td>\n",
       "      <td>30</td>\n",
       "    </tr>\n",
       "    <tr>\n",
       "      <th>1</th>\n",
       "      <td>2021-11-22</td>\n",
       "      <td>4.0</td>\n",
       "      <td>The BF Goodrich T/A Radial has stood the test ...</td>\n",
       "      <td>1970 Ford Mustang 5-Lug</td>\n",
       "      <td>15,000 Miles</td>\n",
       "      <td>Combined Highway/City</td>\n",
       "      <td>SMITHTOWN, NY</td>\n",
       "      <td>Spirited</td>\n",
       "      <td>2021</td>\n",
       "      <td>11</td>\n",
       "      <td>22</td>\n",
       "    </tr>\n",
       "    <tr>\n",
       "      <th>2</th>\n",
       "      <td>2021-10-25</td>\n",
       "      <td>4.5</td>\n",
       "      <td>I have little to no options in this tire size,...</td>\n",
       "      <td>1982 Porsche 911SC Coupe</td>\n",
       "      <td>10,000 Miles</td>\n",
       "      <td>Mostly Highway</td>\n",
       "      <td>AUSTIN, TX</td>\n",
       "      <td>Spirited</td>\n",
       "      <td>2021</td>\n",
       "      <td>10</td>\n",
       "      <td>25</td>\n",
       "    </tr>\n",
       "    <tr>\n",
       "      <th>3</th>\n",
       "      <td>2021-10-11</td>\n",
       "      <td>Not Rated</td>\n",
       "      <td>The raised white lettering never cleaned up, t...</td>\n",
       "      <td>1979 Chevrolet Camaro</td>\n",
       "      <td>1,000 Miles</td>\n",
       "      <td>Mostly City</td>\n",
       "      <td>LANCASTER, MA</td>\n",
       "      <td>Easy Going</td>\n",
       "      <td>2021</td>\n",
       "      <td>10</td>\n",
       "      <td>11</td>\n",
       "    </tr>\n",
       "    <tr>\n",
       "      <th>4</th>\n",
       "      <td>2021-08-01</td>\n",
       "      <td>4.5</td>\n",
       "      <td>BF Goodrich Radial T/A tires are classics for ...</td>\n",
       "      <td>1987 Pontiac Trans Am</td>\n",
       "      <td>3,700 Miles</td>\n",
       "      <td>Mostly Highway</td>\n",
       "      <td>TEMPE, AZ</td>\n",
       "      <td>Easy Going</td>\n",
       "      <td>2021</td>\n",
       "      <td>8</td>\n",
       "      <td>1</td>\n",
       "    </tr>\n",
       "    <tr>\n",
       "      <th>...</th>\n",
       "      <td>...</td>\n",
       "      <td>...</td>\n",
       "      <td>...</td>\n",
       "      <td>...</td>\n",
       "      <td>...</td>\n",
       "      <td>...</td>\n",
       "      <td>...</td>\n",
       "      <td>...</td>\n",
       "      <td>...</td>\n",
       "      <td>...</td>\n",
       "      <td>...</td>\n",
       "    </tr>\n",
       "    <tr>\n",
       "      <th>395</th>\n",
       "      <td>2003-06-11</td>\n",
       "      <td>2.5</td>\n",
       "      <td>These tires are great for cars that never see ...</td>\n",
       "      <td>1994 Chevrolet Caprice</td>\n",
       "      <td>10,000 Miles</td>\n",
       "      <td>Combined Highway/City</td>\n",
       "      <td>Niagara Falls, NY</td>\n",
       "      <td>Spirited</td>\n",
       "      <td>2003</td>\n",
       "      <td>6</td>\n",
       "      <td>11</td>\n",
       "    </tr>\n",
       "    <tr>\n",
       "      <th>396</th>\n",
       "      <td>2003-05-24</td>\n",
       "      <td>5.0</td>\n",
       "      <td>I put these on my 1965 Mustang Convertible and...</td>\n",
       "      <td>1967 Ford Mustang</td>\n",
       "      <td>100 Miles</td>\n",
       "      <td>Combined Highway/City</td>\n",
       "      <td>Walnut Creek, CA</td>\n",
       "      <td>Spirited</td>\n",
       "      <td>2003</td>\n",
       "      <td>5</td>\n",
       "      <td>24</td>\n",
       "    </tr>\n",
       "    <tr>\n",
       "      <th>397</th>\n",
       "      <td>2003-05-13</td>\n",
       "      <td>3.5</td>\n",
       "      <td>My only complaint is that I have had difficutl...</td>\n",
       "      <td>1997 Subaru Outback</td>\n",
       "      <td>45,000 Miles</td>\n",
       "      <td>Combined Highway/City</td>\n",
       "      <td>robinson, tx</td>\n",
       "      <td>Average</td>\n",
       "      <td>2003</td>\n",
       "      <td>5</td>\n",
       "      <td>13</td>\n",
       "    </tr>\n",
       "    <tr>\n",
       "      <th>398</th>\n",
       "      <td>2003-05-09</td>\n",
       "      <td>5.0</td>\n",
       "      <td>I love these tires. They grip very good I real...</td>\n",
       "      <td>1994 GMC C1500 2wd Pick-up</td>\n",
       "      <td>1,500 Miles</td>\n",
       "      <td>All On Road</td>\n",
       "      <td>monee, il</td>\n",
       "      <td>Spirited</td>\n",
       "      <td>2003</td>\n",
       "      <td>5</td>\n",
       "      <td>9</td>\n",
       "    </tr>\n",
       "    <tr>\n",
       "      <th>399</th>\n",
       "      <td>2003-05-07</td>\n",
       "      <td>3.5</td>\n",
       "      <td>Treadwear is amazing!  62000 miles later and s...</td>\n",
       "      <td>2001 Subaru Outback Sport</td>\n",
       "      <td>62,000 Miles</td>\n",
       "      <td>Combined Highway/City</td>\n",
       "      <td>St. Louis, MO</td>\n",
       "      <td>Spirited</td>\n",
       "      <td>2003</td>\n",
       "      <td>5</td>\n",
       "      <td>7</td>\n",
       "    </tr>\n",
       "  </tbody>\n",
       "</table>\n",
       "<p>400 rows × 11 columns</p>\n",
       "</div>"
      ],
      "text/plain": [
       "           Date     Rating                                             Review  \\\n",
       "0    2021-12-30        4.0  All the old people that complain about the whi...   \n",
       "1    2021-11-22        4.0  The BF Goodrich T/A Radial has stood the test ...   \n",
       "2    2021-10-25        4.5  I have little to no options in this tire size,...   \n",
       "3    2021-10-11  Not Rated  The raised white lettering never cleaned up, t...   \n",
       "4    2021-08-01        4.5  BF Goodrich Radial T/A tires are classics for ...   \n",
       "..          ...        ...                                                ...   \n",
       "395  2003-06-11        2.5  These tires are great for cars that never see ...   \n",
       "396  2003-05-24        5.0  I put these on my 1965 Mustang Convertible and...   \n",
       "397  2003-05-13        3.5  My only complaint is that I have had difficutl...   \n",
       "398  2003-05-09        5.0  I love these tires. They grip very good I real...   \n",
       "399  2003-05-07        3.5  Treadwear is amazing!  62000 miles later and s...   \n",
       "\n",
       "                       Vehicle Name Miles Driven on Tires  \\\n",
       "0    1987 Chevrolet Monte Carlo SS           30,000 Miles   \n",
       "1          1970 Ford Mustang 5-Lug           15,000 Miles   \n",
       "2         1982 Porsche 911SC Coupe           10,000 Miles   \n",
       "3            1979 Chevrolet Camaro            1,000 Miles   \n",
       "4            1987 Pontiac Trans Am            3,700 Miles   \n",
       "..                              ...                   ...   \n",
       "395         1994 Chevrolet Caprice           10,000 Miles   \n",
       "396              1967 Ford Mustang              100 Miles   \n",
       "397            1997 Subaru Outback           45,000 Miles   \n",
       "398     1994 GMC C1500 2wd Pick-up            1,500 Miles   \n",
       "399      2001 Subaru Outback Sport           62,000 Miles   \n",
       "\n",
       "        Driving Conditions           Location Driving Style  Year  Month  Day  \n",
       "0    Combined Highway/City  KEARNEYSVILLE, WV      Spirited  2021     12   30  \n",
       "1    Combined Highway/City      SMITHTOWN, NY      Spirited  2021     11   22  \n",
       "2           Mostly Highway         AUSTIN, TX      Spirited  2021     10   25  \n",
       "3              Mostly City      LANCASTER, MA    Easy Going  2021     10   11  \n",
       "4           Mostly Highway          TEMPE, AZ    Easy Going  2021      8    1  \n",
       "..                     ...                ...           ...   ...    ...  ...  \n",
       "395  Combined Highway/City  Niagara Falls, NY      Spirited  2003      6   11  \n",
       "396  Combined Highway/City   Walnut Creek, CA      Spirited  2003      5   24  \n",
       "397  Combined Highway/City       robinson, tx       Average  2003      5   13  \n",
       "398            All On Road          monee, il      Spirited  2003      5    9  \n",
       "399  Combined Highway/City      St. Louis, MO      Spirited  2003      5    7  \n",
       "\n",
       "[400 rows x 11 columns]"
      ]
     },
     "execution_count": 5,
     "metadata": {},
     "output_type": "execute_result"
    }
   ],
   "source": [
    "reviews_datasets = pd.read_csv('C:/Users/kathy/Desktop/그린캣소프트/commentSpider/commentSpider/comments_final.csv')\n",
    "reviews_datasets.head(400)"
   ]
  },
  {
   "cell_type": "code",
   "execution_count": 6,
   "id": "0188a7bd",
   "metadata": {},
   "outputs": [
    {
     "data": {
      "text/html": [
       "<div>\n",
       "<style scoped>\n",
       "    .dataframe tbody tr th:only-of-type {\n",
       "        vertical-align: middle;\n",
       "    }\n",
       "\n",
       "    .dataframe tbody tr th {\n",
       "        vertical-align: top;\n",
       "    }\n",
       "\n",
       "    .dataframe thead th {\n",
       "        text-align: right;\n",
       "    }\n",
       "</style>\n",
       "<table border=\"1\" class=\"dataframe\">\n",
       "  <thead>\n",
       "    <tr style=\"text-align: right;\">\n",
       "      <th></th>\n",
       "      <th>Date</th>\n",
       "      <th>Rating</th>\n",
       "      <th>Review</th>\n",
       "      <th>Vehicle Name</th>\n",
       "      <th>Miles Driven on Tires</th>\n",
       "      <th>Driving Conditions</th>\n",
       "      <th>Location</th>\n",
       "      <th>Driving Style</th>\n",
       "      <th>Year</th>\n",
       "      <th>Month</th>\n",
       "      <th>Day</th>\n",
       "    </tr>\n",
       "  </thead>\n",
       "  <tbody>\n",
       "    <tr>\n",
       "      <th>0</th>\n",
       "      <td>2021-12-30</td>\n",
       "      <td>4.0</td>\n",
       "      <td>All the old people that complain about the whi...</td>\n",
       "      <td>1987 Chevrolet Monte Carlo SS</td>\n",
       "      <td>30,000 Miles</td>\n",
       "      <td>Combined Highway/City</td>\n",
       "      <td>KEARNEYSVILLE, WV</td>\n",
       "      <td>Spirited</td>\n",
       "      <td>2021</td>\n",
       "      <td>12</td>\n",
       "      <td>30</td>\n",
       "    </tr>\n",
       "    <tr>\n",
       "      <th>1</th>\n",
       "      <td>2021-11-22</td>\n",
       "      <td>4.0</td>\n",
       "      <td>The BF Goodrich T/A Radial has stood the test ...</td>\n",
       "      <td>1970 Ford Mustang 5-Lug</td>\n",
       "      <td>15,000 Miles</td>\n",
       "      <td>Combined Highway/City</td>\n",
       "      <td>SMITHTOWN, NY</td>\n",
       "      <td>Spirited</td>\n",
       "      <td>2021</td>\n",
       "      <td>11</td>\n",
       "      <td>22</td>\n",
       "    </tr>\n",
       "    <tr>\n",
       "      <th>2</th>\n",
       "      <td>2021-10-25</td>\n",
       "      <td>4.5</td>\n",
       "      <td>I have little to no options in this tire size,...</td>\n",
       "      <td>1982 Porsche 911SC Coupe</td>\n",
       "      <td>10,000 Miles</td>\n",
       "      <td>Mostly Highway</td>\n",
       "      <td>AUSTIN, TX</td>\n",
       "      <td>Spirited</td>\n",
       "      <td>2021</td>\n",
       "      <td>10</td>\n",
       "      <td>25</td>\n",
       "    </tr>\n",
       "    <tr>\n",
       "      <th>3</th>\n",
       "      <td>2021-10-11</td>\n",
       "      <td>Not Rated</td>\n",
       "      <td>The raised white lettering never cleaned up, t...</td>\n",
       "      <td>1979 Chevrolet Camaro</td>\n",
       "      <td>1,000 Miles</td>\n",
       "      <td>Mostly City</td>\n",
       "      <td>LANCASTER, MA</td>\n",
       "      <td>Easy Going</td>\n",
       "      <td>2021</td>\n",
       "      <td>10</td>\n",
       "      <td>11</td>\n",
       "    </tr>\n",
       "    <tr>\n",
       "      <th>4</th>\n",
       "      <td>2021-08-01</td>\n",
       "      <td>4.5</td>\n",
       "      <td>BF Goodrich Radial T/A tires are classics for ...</td>\n",
       "      <td>1987 Pontiac Trans Am</td>\n",
       "      <td>3,700 Miles</td>\n",
       "      <td>Mostly Highway</td>\n",
       "      <td>TEMPE, AZ</td>\n",
       "      <td>Easy Going</td>\n",
       "      <td>2021</td>\n",
       "      <td>8</td>\n",
       "      <td>1</td>\n",
       "    </tr>\n",
       "    <tr>\n",
       "      <th>...</th>\n",
       "      <td>...</td>\n",
       "      <td>...</td>\n",
       "      <td>...</td>\n",
       "      <td>...</td>\n",
       "      <td>...</td>\n",
       "      <td>...</td>\n",
       "      <td>...</td>\n",
       "      <td>...</td>\n",
       "      <td>...</td>\n",
       "      <td>...</td>\n",
       "      <td>...</td>\n",
       "    </tr>\n",
       "    <tr>\n",
       "      <th>474</th>\n",
       "      <td>2000-06-15</td>\n",
       "      <td>4.0</td>\n",
       "      <td>Love these tires! My only complaint is that t...</td>\n",
       "      <td>1993 Ford Ranger 2wd</td>\n",
       "      <td>30,000 Miles</td>\n",
       "      <td>All On Road</td>\n",
       "      <td>Downs, KS</td>\n",
       "      <td>Average</td>\n",
       "      <td>2000</td>\n",
       "      <td>6</td>\n",
       "      <td>15</td>\n",
       "    </tr>\n",
       "    <tr>\n",
       "      <th>475</th>\n",
       "      <td>2000-06-04</td>\n",
       "      <td>4.0</td>\n",
       "      <td>All things considered these are great tires. ...</td>\n",
       "      <td>1977 Chevrolet Corvette</td>\n",
       "      <td>2,000 Miles</td>\n",
       "      <td>Combined Highway/City</td>\n",
       "      <td>Lowell, AR</td>\n",
       "      <td>Spirited</td>\n",
       "      <td>2000</td>\n",
       "      <td>6</td>\n",
       "      <td>4</td>\n",
       "    </tr>\n",
       "    <tr>\n",
       "      <th>476</th>\n",
       "      <td>2000-05-19</td>\n",
       "      <td>3.0</td>\n",
       "      <td>I've got an '85 Chevrolet Pickup that has bee...</td>\n",
       "      <td>1985 Chevrolet C10 2wd Pick-up</td>\n",
       "      <td>20,000 Miles</td>\n",
       "      <td>Mostly On Road</td>\n",
       "      <td>Garfield, Ga</td>\n",
       "      <td>Spirited</td>\n",
       "      <td>2000</td>\n",
       "      <td>5</td>\n",
       "      <td>19</td>\n",
       "    </tr>\n",
       "    <tr>\n",
       "      <th>477</th>\n",
       "      <td>2000-04-24</td>\n",
       "      <td>4.5</td>\n",
       "      <td>I would reccommend these tires to anyone with ...</td>\n",
       "      <td>1982 Chevrolet Camaro</td>\n",
       "      <td>2,500 Miles</td>\n",
       "      <td>Combined Highway/City</td>\n",
       "      <td>Langlois, OR</td>\n",
       "      <td>Spirited</td>\n",
       "      <td>2000</td>\n",
       "      <td>4</td>\n",
       "      <td>24</td>\n",
       "    </tr>\n",
       "    <tr>\n",
       "      <th>478</th>\n",
       "      <td>2000-04-23</td>\n",
       "      <td>3.5</td>\n",
       "      <td>Ok tire with poor steering response (size 255...</td>\n",
       "      <td>1971 Chevrolet Camaro</td>\n",
       "      <td>10,000 Miles</td>\n",
       "      <td>Combined Highway/City</td>\n",
       "      <td>Plano, TX</td>\n",
       "      <td>Spirited</td>\n",
       "      <td>2000</td>\n",
       "      <td>4</td>\n",
       "      <td>23</td>\n",
       "    </tr>\n",
       "  </tbody>\n",
       "</table>\n",
       "<p>479 rows × 11 columns</p>\n",
       "</div>"
      ],
      "text/plain": [
       "           Date     Rating                                             Review  \\\n",
       "0    2021-12-30        4.0  All the old people that complain about the whi...   \n",
       "1    2021-11-22        4.0  The BF Goodrich T/A Radial has stood the test ...   \n",
       "2    2021-10-25        4.5  I have little to no options in this tire size,...   \n",
       "3    2021-10-11  Not Rated  The raised white lettering never cleaned up, t...   \n",
       "4    2021-08-01        4.5  BF Goodrich Radial T/A tires are classics for ...   \n",
       "..          ...        ...                                                ...   \n",
       "474  2000-06-15        4.0   Love these tires! My only complaint is that t...   \n",
       "475  2000-06-04        4.0   All things considered these are great tires. ...   \n",
       "476  2000-05-19        3.0   I've got an '85 Chevrolet Pickup that has bee...   \n",
       "477  2000-04-24        4.5  I would reccommend these tires to anyone with ...   \n",
       "478  2000-04-23        3.5   Ok tire with poor steering response (size 255...   \n",
       "\n",
       "                        Vehicle Name Miles Driven on Tires  \\\n",
       "0     1987 Chevrolet Monte Carlo SS           30,000 Miles   \n",
       "1           1970 Ford Mustang 5-Lug           15,000 Miles   \n",
       "2          1982 Porsche 911SC Coupe           10,000 Miles   \n",
       "3             1979 Chevrolet Camaro            1,000 Miles   \n",
       "4             1987 Pontiac Trans Am            3,700 Miles   \n",
       "..                               ...                   ...   \n",
       "474            1993 Ford Ranger 2wd           30,000 Miles   \n",
       "475         1977 Chevrolet Corvette            2,000 Miles   \n",
       "476  1985 Chevrolet C10 2wd Pick-up           20,000 Miles   \n",
       "477           1982 Chevrolet Camaro            2,500 Miles   \n",
       "478           1971 Chevrolet Camaro           10,000 Miles   \n",
       "\n",
       "        Driving Conditions           Location Driving Style  Year  Month  Day  \n",
       "0    Combined Highway/City  KEARNEYSVILLE, WV      Spirited  2021     12   30  \n",
       "1    Combined Highway/City      SMITHTOWN, NY      Spirited  2021     11   22  \n",
       "2           Mostly Highway         AUSTIN, TX      Spirited  2021     10   25  \n",
       "3              Mostly City      LANCASTER, MA    Easy Going  2021     10   11  \n",
       "4           Mostly Highway          TEMPE, AZ    Easy Going  2021      8    1  \n",
       "..                     ...                ...           ...   ...    ...  ...  \n",
       "474            All On Road          Downs, KS       Average  2000      6   15  \n",
       "475  Combined Highway/City         Lowell, AR      Spirited  2000      6    4  \n",
       "476         Mostly On Road       Garfield, Ga      Spirited  2000      5   19  \n",
       "477  Combined Highway/City       Langlois, OR      Spirited  2000      4   24  \n",
       "478  Combined Highway/City          Plano, TX      Spirited  2000      4   23  \n",
       "\n",
       "[479 rows x 11 columns]"
      ]
     },
     "execution_count": 6,
     "metadata": {},
     "output_type": "execute_result"
    }
   ],
   "source": [
    "reviews_datasets.dropna()"
   ]
  },
  {
   "cell_type": "code",
   "execution_count": 7,
   "id": "da046909",
   "metadata": {},
   "outputs": [
    {
     "data": {
      "text/plain": [
       "\"I have 1999 255/60/15 on the rear of javelin and 235/60/15 on front. Can't rate tires on wet or snow because car has never been driven in these conditions. Have owned 26 years,did bracket race a couple years with it and the rear tires after many burn-outs show hardly any wear at all. These rear tires are 21 years old and still look new,including the white lettering. The front tires are 19 years old and still look new,lots of tread left and no cracking anywhere because they were taken care of with tire dressing their entire life. They make no road hum to speak of and grip great. Will always own TA's\""
      ]
     },
     "execution_count": 7,
     "metadata": {},
     "output_type": "execute_result"
    }
   ],
   "source": [
    "#retrieving review from specified row\n",
    "reviews_datasets['Review'][20]"
   ]
  },
  {
   "cell_type": "code",
   "execution_count": 8,
   "id": "24816699",
   "metadata": {},
   "outputs": [],
   "source": [
    "#CountVectorizer creates a document-term matrix\n",
    "from sklearn.feature_extraction.text import CountVectorizer"
   ]
  },
  {
   "cell_type": "code",
   "execution_count": 9,
   "id": "63732964",
   "metadata": {},
   "outputs": [],
   "source": [
    "#inlcude words that appear in less than 80% of doc and at least 2 docs\n",
    "#remove irrelevant stop words\n",
    "#'U' is unicode\n",
    "\n",
    "#contains all words in vocab\n",
    "count_vect = CountVectorizer(max_df=0.8, min_df=2, stop_words='english')\n",
    "doc_term_matrix = count_vect.fit_transform(reviews_datasets['Review'].values.astype('U'))"
   ]
  },
  {
   "cell_type": "code",
   "execution_count": 10,
   "id": "ba641221",
   "metadata": {},
   "outputs": [
    {
     "data": {
      "text/plain": [
       "<479x1330 sparse matrix of type '<class 'numpy.int64'>'\n",
       "\twith 10301 stored elements in Compressed Sparse Row format>"
      ]
     },
     "execution_count": 10,
     "metadata": {},
     "output_type": "execute_result"
    }
   ],
   "source": [
    "#result: each of 479 documents is represented as 1330 dimensional vector\n",
    "#meaning: our vocab as 1330 words\n",
    "doc_term_matrix"
   ]
  },
  {
   "cell_type": "code",
   "execution_count": 11,
   "id": "db94e42d",
   "metadata": {},
   "outputs": [],
   "source": [
    "from sklearn.decomposition import LatentDirichletAllocation as lda"
   ]
  },
  {
   "cell_type": "code",
   "execution_count": 12,
   "id": "05aa3f0e",
   "metadata": {},
   "outputs": [
    {
     "data": {
      "text/plain": [
       "LatentDirichletAllocation(n_components=5, random_state=42)"
      ]
     },
     "execution_count": 12,
     "metadata": {},
     "output_type": "execute_result"
    }
   ],
   "source": [
    "#n_components = num of topics\n",
    "LDA = lda(n_components=5, random_state=42)\n",
    "LDA.fit(doc_term_matrix)"
   ]
  },
  {
   "cell_type": "code",
   "execution_count": 13,
   "id": "667be869",
   "metadata": {},
   "outputs": [
    {
     "name": "stdout",
     "output_type": "stream",
     "text": [
      "spot\n",
      "engines\n",
      "braking\n",
      "width\n",
      "inch\n",
      "ancient\n",
      "talking\n",
      "packed\n",
      "rock\n",
      "suggest\n"
     ]
    }
   ],
   "source": [
    "import random\n",
    "\n",
    "#randomly fetching 10 words from vocab\n",
    "for i in range(10):\n",
    "    random_id = random.randint(0, len(count_vect.get_feature_names()))\n",
    "    print(count_vect.get_feature_names()[random_id])"
   ]
  },
  {
   "cell_type": "code",
   "execution_count": 14,
   "id": "27aff1fb",
   "metadata": {},
   "outputs": [
    {
     "data": {
      "text/plain": [
       "array([1026,  396, 1294,  515,  242,  504, 1068, 1206, 1188, 1190],\n",
       "      dtype=int64)"
      ]
     },
     "execution_count": 14,
     "metadata": {},
     "output_type": "execute_result"
    }
   ],
   "source": [
    "#getting first topic\n",
    "first_topic = LDA.components_[0]\n",
    "\n",
    "#argsort(): sorts indexes according to prob values\n",
    "#10 words with highest probabilites will belong to last 10 indexes of array\n",
    "top_topic_words = first_topic.argsort()[-10:]\n",
    "top_topic_words"
   ]
  },
  {
   "cell_type": "code",
   "execution_count": 15,
   "id": "bb4b1db4",
   "metadata": {},
   "outputs": [
    {
     "name": "stdout",
     "output_type": "stream",
     "text": [
      "set\n",
      "driving\n",
      "wet\n",
      "great\n",
      "car\n",
      "good\n",
      "snow\n",
      "traction\n",
      "tire\n",
      "tires\n"
     ]
    }
   ],
   "source": [
    "#indexes above are used to retrieve value of words\n",
    "for i in top_topic_words:\n",
    "    print(count_vect.get_feature_names()[i])"
   ]
  },
  {
   "cell_type": "code",
   "execution_count": 16,
   "id": "183c95e7",
   "metadata": {},
   "outputs": [
    {
     "name": "stdout",
     "output_type": "stream",
     "text": [
      "Top 10 words for topic 0\n",
      "['set', 'driving', 'wet', 'great', 'car', 'good', 'snow', 'traction', 'tire', 'tires']\n",
      "\n",
      "\n",
      "Top 10 words for topic 1\n",
      "['radial', 'set', '15', 'look', 'performance', 'white', 'car', 'great', 'tire', 'tires']\n",
      "\n",
      "\n",
      "Top 10 words for topic 2\n",
      "['running', 'rear', '15', '235', 'car', 'wheels', '60', 'good', 'tires', 'tire']\n",
      "\n",
      "\n",
      "Top 10 words for topic 3\n",
      "['drive', 'old', 'radial', '000', 'look', 'miles', 'great', 'set', 'car', 'tires']\n",
      "\n",
      "\n",
      "Top 10 words for topic 4\n",
      "['tread', 'traction', 'better', 'wet', 'set', '000', 'good', 'miles', 'tires', 'tire']\n",
      "\n",
      "\n"
     ]
    }
   ],
   "source": [
    "for i,topic in enumerate(LDA.components_):\n",
    "    print('Top 10 words for topic {}'.format(i))\n",
    "    print([count_vect.get_feature_names()[i] for i in topic.argsort()[-10:]])\n",
    "    print('\\n')"
   ]
  },
  {
   "cell_type": "code",
   "execution_count": 17,
   "id": "e1c11815",
   "metadata": {},
   "outputs": [
    {
     "data": {
      "text/plain": [
       "(479, 5)"
      ]
     },
     "execution_count": 17,
     "metadata": {},
     "output_type": "execute_result"
    }
   ],
   "source": [
    "#LDA.transform(): adds column to original data frame that stores topic for text\n",
    "#assigns prob of all topics to each document\n",
    "#result: (479, 5) -> each doc has 5 columns\n",
    "topic_values = LDA.transform(doc_term_matrix)\n",
    "topic_values.shape"
   ]
  },
  {
   "cell_type": "code",
   "execution_count": 18,
   "id": "2e827cfc",
   "metadata": {
    "scrolled": true
   },
   "outputs": [
    {
     "data": {
      "text/html": [
       "<div>\n",
       "<style scoped>\n",
       "    .dataframe tbody tr th:only-of-type {\n",
       "        vertical-align: middle;\n",
       "    }\n",
       "\n",
       "    .dataframe tbody tr th {\n",
       "        vertical-align: top;\n",
       "    }\n",
       "\n",
       "    .dataframe thead th {\n",
       "        text-align: right;\n",
       "    }\n",
       "</style>\n",
       "<table border=\"1\" class=\"dataframe\">\n",
       "  <thead>\n",
       "    <tr style=\"text-align: right;\">\n",
       "      <th></th>\n",
       "      <th>Date</th>\n",
       "      <th>Rating</th>\n",
       "      <th>Review</th>\n",
       "      <th>Vehicle Name</th>\n",
       "      <th>Miles Driven on Tires</th>\n",
       "      <th>Driving Conditions</th>\n",
       "      <th>Location</th>\n",
       "      <th>Driving Style</th>\n",
       "      <th>Year</th>\n",
       "      <th>Month</th>\n",
       "      <th>Day</th>\n",
       "      <th>Topic</th>\n",
       "    </tr>\n",
       "  </thead>\n",
       "  <tbody>\n",
       "    <tr>\n",
       "      <th>0</th>\n",
       "      <td>2021-12-30</td>\n",
       "      <td>4.0</td>\n",
       "      <td>All the old people that complain about the whi...</td>\n",
       "      <td>1987 Chevrolet Monte Carlo SS</td>\n",
       "      <td>30,000 Miles</td>\n",
       "      <td>Combined Highway/City</td>\n",
       "      <td>KEARNEYSVILLE, WV</td>\n",
       "      <td>Spirited</td>\n",
       "      <td>2021</td>\n",
       "      <td>12</td>\n",
       "      <td>30</td>\n",
       "      <td>4</td>\n",
       "    </tr>\n",
       "    <tr>\n",
       "      <th>1</th>\n",
       "      <td>2021-11-22</td>\n",
       "      <td>4.0</td>\n",
       "      <td>The BF Goodrich T/A Radial has stood the test ...</td>\n",
       "      <td>1970 Ford Mustang 5-Lug</td>\n",
       "      <td>15,000 Miles</td>\n",
       "      <td>Combined Highway/City</td>\n",
       "      <td>SMITHTOWN, NY</td>\n",
       "      <td>Spirited</td>\n",
       "      <td>2021</td>\n",
       "      <td>11</td>\n",
       "      <td>22</td>\n",
       "      <td>4</td>\n",
       "    </tr>\n",
       "    <tr>\n",
       "      <th>2</th>\n",
       "      <td>2021-10-25</td>\n",
       "      <td>4.5</td>\n",
       "      <td>I have little to no options in this tire size,...</td>\n",
       "      <td>1982 Porsche 911SC Coupe</td>\n",
       "      <td>10,000 Miles</td>\n",
       "      <td>Mostly Highway</td>\n",
       "      <td>AUSTIN, TX</td>\n",
       "      <td>Spirited</td>\n",
       "      <td>2021</td>\n",
       "      <td>10</td>\n",
       "      <td>25</td>\n",
       "      <td>0</td>\n",
       "    </tr>\n",
       "    <tr>\n",
       "      <th>3</th>\n",
       "      <td>2021-10-11</td>\n",
       "      <td>Not Rated</td>\n",
       "      <td>The raised white lettering never cleaned up, t...</td>\n",
       "      <td>1979 Chevrolet Camaro</td>\n",
       "      <td>1,000 Miles</td>\n",
       "      <td>Mostly City</td>\n",
       "      <td>LANCASTER, MA</td>\n",
       "      <td>Easy Going</td>\n",
       "      <td>2021</td>\n",
       "      <td>10</td>\n",
       "      <td>11</td>\n",
       "      <td>1</td>\n",
       "    </tr>\n",
       "    <tr>\n",
       "      <th>4</th>\n",
       "      <td>2021-08-01</td>\n",
       "      <td>4.5</td>\n",
       "      <td>BF Goodrich Radial T/A tires are classics for ...</td>\n",
       "      <td>1987 Pontiac Trans Am</td>\n",
       "      <td>3,700 Miles</td>\n",
       "      <td>Mostly Highway</td>\n",
       "      <td>TEMPE, AZ</td>\n",
       "      <td>Easy Going</td>\n",
       "      <td>2021</td>\n",
       "      <td>8</td>\n",
       "      <td>1</td>\n",
       "      <td>3</td>\n",
       "    </tr>\n",
       "  </tbody>\n",
       "</table>\n",
       "</div>"
      ],
      "text/plain": [
       "         Date     Rating                                             Review  \\\n",
       "0  2021-12-30        4.0  All the old people that complain about the whi...   \n",
       "1  2021-11-22        4.0  The BF Goodrich T/A Radial has stood the test ...   \n",
       "2  2021-10-25        4.5  I have little to no options in this tire size,...   \n",
       "3  2021-10-11  Not Rated  The raised white lettering never cleaned up, t...   \n",
       "4  2021-08-01        4.5  BF Goodrich Radial T/A tires are classics for ...   \n",
       "\n",
       "                     Vehicle Name Miles Driven on Tires  \\\n",
       "0  1987 Chevrolet Monte Carlo SS           30,000 Miles   \n",
       "1        1970 Ford Mustang 5-Lug           15,000 Miles   \n",
       "2       1982 Porsche 911SC Coupe           10,000 Miles   \n",
       "3          1979 Chevrolet Camaro            1,000 Miles   \n",
       "4          1987 Pontiac Trans Am            3,700 Miles   \n",
       "\n",
       "      Driving Conditions           Location Driving Style  Year  Month  Day  \\\n",
       "0  Combined Highway/City  KEARNEYSVILLE, WV      Spirited  2021     12   30   \n",
       "1  Combined Highway/City      SMITHTOWN, NY      Spirited  2021     11   22   \n",
       "2         Mostly Highway         AUSTIN, TX      Spirited  2021     10   25   \n",
       "3            Mostly City      LANCASTER, MA    Easy Going  2021     10   11   \n",
       "4         Mostly Highway          TEMPE, AZ    Easy Going  2021      8    1   \n",
       "\n",
       "   Topic  \n",
       "0      4  \n",
       "1      4  \n",
       "2      0  \n",
       "3      1  \n",
       "4      3  "
      ]
     },
     "execution_count": 18,
     "metadata": {},
     "output_type": "execute_result"
    }
   ],
   "source": [
    "#argmax(): finds topic index with max value\n",
    "#adds new column for topic and assigns topic value to each row in col\n",
    "reviews_datasets['Topic'] = topic_values.argmax(axis=1)\n",
    "\n",
    "reviews_datasets.head()"
   ]
  },
  {
   "cell_type": "markdown",
   "id": "6474ea8f",
   "metadata": {},
   "source": [
    "## Using Gensim"
   ]
  },
  {
   "cell_type": "code",
   "execution_count": 19,
   "id": "81d16552",
   "metadata": {},
   "outputs": [
    {
     "name": "stderr",
     "output_type": "stream",
     "text": [
      "[nltk_data] Downloading package stopwords to\n",
      "[nltk_data]     C:\\Users\\kathy\\AppData\\Roaming\\nltk_data...\n",
      "[nltk_data]   Package stopwords is already up-to-date!\n"
     ]
    },
    {
     "data": {
      "text/plain": [
       "True"
      ]
     },
     "execution_count": 19,
     "metadata": {},
     "output_type": "execute_result"
    }
   ],
   "source": [
    "import nltk\n",
    "nltk.download(\"stopwords\")"
   ]
  },
  {
   "cell_type": "code",
   "execution_count": 35,
   "id": "19eb0d55",
   "metadata": {},
   "outputs": [
    {
     "name": "stdout",
     "output_type": "stream",
     "text": [
      "Requirement already satisfied: gensim in c:\\users\\kathy\\anaconda3\\lib\\site-packages (4.1.2)\n",
      "Requirement already satisfied: Cython==0.29.23 in c:\\users\\kathy\\anaconda3\\lib\\site-packages (from gensim) (0.29.23)\n",
      "Requirement already satisfied: smart-open>=1.8.1 in c:\\users\\kathy\\anaconda3\\lib\\site-packages (from gensim) (5.2.1)\n",
      "Requirement already satisfied: numpy>=1.17.0 in c:\\users\\kathy\\anaconda3\\lib\\site-packages (from gensim) (1.20.3)\n",
      "Requirement already satisfied: scipy>=0.18.1 in c:\\users\\kathy\\anaconda3\\lib\\site-packages (from gensim) (1.7.1)\n",
      "Collecting pyLDAvis==3.3.1\n",
      "  Using cached pyLDAvis-3.3.1-py2.py3-none-any.whl\n",
      "Requirement already satisfied: scipy in c:\\users\\kathy\\anaconda3\\lib\\site-packages (from pyLDAvis==3.3.1) (1.7.1)\n",
      "Requirement already satisfied: jinja2 in c:\\users\\kathy\\anaconda3\\lib\\site-packages (from pyLDAvis==3.3.1) (2.11.3)\n",
      "Requirement already satisfied: gensim in c:\\users\\kathy\\anaconda3\\lib\\site-packages (from pyLDAvis==3.3.1) (4.1.2)\n",
      "Requirement already satisfied: setuptools in c:\\users\\kathy\\anaconda3\\lib\\site-packages (from pyLDAvis==3.3.1) (58.0.4)\n",
      "Requirement already satisfied: scikit-learn in c:\\users\\kathy\\anaconda3\\lib\\site-packages (from pyLDAvis==3.3.1) (0.24.2)\n",
      "Requirement already satisfied: future in c:\\users\\kathy\\anaconda3\\lib\\site-packages (from pyLDAvis==3.3.1) (0.18.2)\n",
      "Requirement already satisfied: funcy in c:\\users\\kathy\\anaconda3\\lib\\site-packages (from pyLDAvis==3.3.1) (1.17)\n",
      "Requirement already satisfied: sklearn in c:\\users\\kathy\\anaconda3\\lib\\site-packages (from pyLDAvis==3.3.1) (0.0)\n",
      "Requirement already satisfied: numexpr in c:\\users\\kathy\\anaconda3\\lib\\site-packages (from pyLDAvis==3.3.1) (2.7.3)\n",
      "Requirement already satisfied: pandas>=1.2.0 in c:\\users\\kathy\\anaconda3\\lib\\site-packages (from pyLDAvis==3.3.1) (1.3.4)\n",
      "Requirement already satisfied: numpy>=1.20.0 in c:\\users\\kathy\\anaconda3\\lib\\site-packages (from pyLDAvis==3.3.1) (1.20.3)\n",
      "Requirement already satisfied: joblib in c:\\users\\kathy\\anaconda3\\lib\\site-packages (from pyLDAvis==3.3.1) (1.1.0)\n",
      "Requirement already satisfied: pytz>=2017.3 in c:\\users\\kathy\\anaconda3\\lib\\site-packages (from pandas>=1.2.0->pyLDAvis==3.3.1) (2021.3)\n",
      "Requirement already satisfied: python-dateutil>=2.7.3 in c:\\users\\kathy\\anaconda3\\lib\\site-packages (from pandas>=1.2.0->pyLDAvis==3.3.1) (2.8.2)\n",
      "Requirement already satisfied: six>=1.5 in c:\\users\\kathy\\anaconda3\\lib\\site-packages (from python-dateutil>=2.7.3->pandas>=1.2.0->pyLDAvis==3.3.1) (1.16.0)\n",
      "Requirement already satisfied: smart-open>=1.8.1 in c:\\users\\kathy\\anaconda3\\lib\\site-packages (from gensim->pyLDAvis==3.3.1) (5.2.1)\n",
      "Requirement already satisfied: Cython==0.29.23 in c:\\users\\kathy\\anaconda3\\lib\\site-packages (from gensim->pyLDAvis==3.3.1) (0.29.23)\n",
      "Requirement already satisfied: MarkupSafe>=0.23 in c:\\users\\kathy\\anaconda3\\lib\\site-packages (from jinja2->pyLDAvis==3.3.1) (1.1.1)\n",
      "Requirement already satisfied: threadpoolctl>=2.0.0 in c:\\users\\kathy\\anaconda3\\lib\\site-packages (from scikit-learn->pyLDAvis==3.3.1) (2.2.0)\n",
      "Installing collected packages: pyLDAvis\n",
      "  Attempting uninstall: pyLDAvis\n",
      "    Found existing installation: pyLDAvis 2.1.2\n",
      "    Uninstalling pyLDAvis-2.1.2:\n",
      "      Successfully uninstalled pyLDAvis-2.1.2\n",
      "Successfully installed pyLDAvis-3.3.1\n"
     ]
    }
   ],
   "source": [
    "!pip install gensim\n",
    "!pip install pyLDAvis==3.3.1"
   ]
  },
  {
   "cell_type": "code",
   "execution_count": 36,
   "id": "5b6cabcb",
   "metadata": {},
   "outputs": [],
   "source": [
    "import json\n",
    "import glob\n",
    "\n",
    "#Gensim\n",
    "import gensim\n",
    "import gensim.corpora as corpora\n",
    "from gensim.utils import simple_preprocess\n",
    "from gensim.models import CoherenceModel\n",
    "\n",
    "#spacy\n",
    "import spacy\n",
    "from nltk.corpus import stopwords\n",
    "\n",
    "#visualizing model\n",
    "import pyLDAvis\n",
    "import pyLDAvis.gensim_models\n",
    "\n",
    "import warnings\n",
    "warnings.filterwarnings(\"ignore\", category=DeprecationWarning)\n",
    "warnings.simplefilter(action='ignore', category=FutureWarning)"
   ]
  },
  {
   "cell_type": "code",
   "execution_count": 22,
   "id": "28590da4",
   "metadata": {},
   "outputs": [],
   "source": [
    "def load_data(file):\n",
    "    with open (file, \"r\", encoding='utf-8') as f:\n",
    "        data = json.load(f)\n",
    "    return(data)\n",
    "\n",
    "def write_data(file, data):\n",
    "    with open (file, \"w\", encoding='utf-8') as f:\n",
    "        json.dump(data, f, indent=4)"
   ]
  },
  {
   "cell_type": "code",
   "execution_count": 23,
   "id": "1edb8fe1",
   "metadata": {},
   "outputs": [
    {
     "name": "stdout",
     "output_type": "stream",
     "text": [
      "['i', 'me', 'my', 'myself', 'we', 'our', 'ours', 'ourselves', 'you', \"you're\", \"you've\", \"you'll\", \"you'd\", 'your', 'yours', 'yourself', 'yourselves', 'he', 'him', 'his', 'himself', 'she', \"she's\", 'her', 'hers', 'herself', 'it', \"it's\", 'its', 'itself', 'they', 'them', 'their', 'theirs', 'themselves', 'what', 'which', 'who', 'whom', 'this', 'that', \"that'll\", 'these', 'those', 'am', 'is', 'are', 'was', 'were', 'be', 'been', 'being', 'have', 'has', 'had', 'having', 'do', 'does', 'did', 'doing', 'a', 'an', 'the', 'and', 'but', 'if', 'or', 'because', 'as', 'until', 'while', 'of', 'at', 'by', 'for', 'with', 'about', 'against', 'between', 'into', 'through', 'during', 'before', 'after', 'above', 'below', 'to', 'from', 'up', 'down', 'in', 'out', 'on', 'off', 'over', 'under', 'again', 'further', 'then', 'once', 'here', 'there', 'when', 'where', 'why', 'how', 'all', 'any', 'both', 'each', 'few', 'more', 'most', 'other', 'some', 'such', 'no', 'nor', 'not', 'only', 'own', 'same', 'so', 'than', 'too', 'very', 's', 't', 'can', 'will', 'just', 'don', \"don't\", 'should', \"should've\", 'now', 'd', 'll', 'm', 'o', 're', 've', 'y', 'ain', 'aren', \"aren't\", 'couldn', \"couldn't\", 'didn', \"didn't\", 'doesn', \"doesn't\", 'hadn', \"hadn't\", 'hasn', \"hasn't\", 'haven', \"haven't\", 'isn', \"isn't\", 'ma', 'mightn', \"mightn't\", 'mustn', \"mustn't\", 'needn', \"needn't\", 'shan', \"shan't\", 'shouldn', \"shouldn't\", 'wasn', \"wasn't\", 'weren', \"weren't\", 'won', \"won't\", 'wouldn', \"wouldn't\"]\n"
     ]
    }
   ],
   "source": [
    "#getting unnecessary words\n",
    "stopwords = stopwords.words('english')\n",
    "print(stopwords)"
   ]
  },
  {
   "cell_type": "code",
   "execution_count": 24,
   "id": "7b3484e1",
   "metadata": {},
   "outputs": [
    {
     "name": "stdout",
     "output_type": "stream",
     "text": [
      "All the old people that complain about the white letters being brown, its called \"Bleach W\n"
     ]
    }
   ],
   "source": [
    "# review_datasets = pd.read_csv('C:/Users/kathy/Desktop/그린캣소프트/commentSpider/commentSpider/comments_final')\n",
    "# review_datasets.to_json('C:/Users/kathy/Desktop/그린캣소프트/commentSpider/commentSpider/comments_final')\n",
    "\n",
    "review_datasets = load_data('C:/Users/kathy/Desktop/그린캣소프트/commentSpider/commentSpider/comments_json.json')['Review']\n",
    "review_datasets = list(review_datasets.values())\n",
    "print(review_datasets[0][0:90])"
   ]
  },
  {
   "cell_type": "code",
   "execution_count": 25,
   "id": "247fd25b",
   "metadata": {},
   "outputs": [
    {
     "name": "stdout",
     "output_type": "stream",
     "text": [
      "old people complain white letter brown call sell auto zone advanced maybe worth buy dusty \n"
     ]
    }
   ],
   "source": [
    "#lemmatization: reduction of words to root form\n",
    "#passes all texts and gives a lemmatized version\n",
    "\n",
    "#allowed_postags: word types wanted\n",
    "def lemmatization(reviews, allowed_postags=[\"NOUN\", \"ADJ\", \"VERB\", \"ADV\"]):\n",
    "    #creating spacy object\n",
    "    #en_core_web_sm: english pipeline optimized for CPU\n",
    "    #parser, ner: more expensive and not necessary\n",
    "    nlp = spacy.load(\"en_core_web_sm\", disable=[\"parser\", \"ner\"])\n",
    "    texts_out = []\n",
    "    \n",
    "    #iterating over reviews\n",
    "    for review in reviews:\n",
    "        #creates doc object about information\n",
    "        doc = nlp(review)\n",
    "        new_text = []\n",
    "        #iterate over each word in text\n",
    "        for token in doc:\n",
    "            if token.pos_ in allowed_postags:\n",
    "                #lemma_: lemmatized form(reduces complexity of text)\n",
    "                new_text.append(token.lemma_)\n",
    "        final = \" \".join(new_text)\n",
    "        texts_out.append(final)\n",
    "    return(texts_out)\n",
    "\n",
    "lemmatized_texts = lemmatization(review_datasets)\n",
    "print(lemmatized_texts[0][0:90])"
   ]
  },
  {
   "cell_type": "code",
   "execution_count": 26,
   "id": "30f41b83",
   "metadata": {},
   "outputs": [
    {
     "name": "stdout",
     "output_type": "stream",
     "text": [
      "['old', 'people', 'complain', 'white', 'letter', 'brown', 'call', 'sell', 'auto', 'zone', 'advanced', 'maybe', 'worth', 'buy', 'dusty', 'cheap', 'brake', 'pad', 'buy', 'discount']\n"
     ]
    }
   ],
   "source": [
    "#reduce texts to individual words and remove stopwords\n",
    "def gen_words(reviews):\n",
    "    final = []\n",
    "    for review in reviews:\n",
    "        #deacc: converts everything into latin script (english)\n",
    "        new = gensim.utils.simple_preprocess(review, deacc=True)\n",
    "        final.append(new)\n",
    "    return (final)\n",
    "\n",
    "data_words = gen_words(lemmatized_texts)\n",
    "\n",
    "print(data_words[0][0:20])"
   ]
  },
  {
   "cell_type": "code",
   "execution_count": 27,
   "id": "bf7aba28",
   "metadata": {},
   "outputs": [
    {
     "name": "stdout",
     "output_type": "stream",
     "text": [
      "[(0, 1), (1, 1), (2, 1), (3, 1), (4, 1), (5, 2), (6, 1), (7, 1), (8, 1), (9, 1), (10, 1), (11, 1), (12, 1), (13, 1), (14, 1), (15, 1), (16, 1), (17, 1), (18, 1), (19, 1)]\n",
      "advanced\n"
     ]
    }
   ],
   "source": [
    "#allows us to have key pieces of data\n",
    "id2word = corpora.Dictionary(data_words)\n",
    "\n",
    "corpus = []\n",
    "for text in data_words:\n",
    "    #creates a bag of words(bow)\n",
    "    #list of unique words and their freq\n",
    "    new = id2word.doc2bow(text)\n",
    "    corpus.append(new)\n",
    "\n",
    "#legible by computers (list of tuples)\n",
    "#ex. (0,1): 0 = index of word, 1=freq of word\n",
    "print(corpus[0][0:20])\n",
    "\n",
    "#grabs first tuple\n",
    "word = id2word[[0][:1][0]]\n",
    "print(word)"
   ]
  },
  {
   "cell_type": "code",
   "execution_count": 28,
   "id": "c1e0d4b7",
   "metadata": {},
   "outputs": [],
   "source": [
    "lda_model = gensim.models.ldamodel.LdaModel(corpus=corpus\n",
    "                                           , id2word=id2word,\n",
    "                                           num_topics=5,\n",
    "                                           random_state=42,\n",
    "                                           update_every=1,\n",
    "                                           chunksize=50,\n",
    "                                           passes=10,\n",
    "                                           alpha=\"auto\")"
   ]
  },
  {
   "cell_type": "markdown",
   "id": "7a24ac8a",
   "metadata": {},
   "source": [
    "## Visualizing the Data"
   ]
  },
  {
   "cell_type": "code",
   "execution_count": null,
   "id": "18a3bd1c",
   "metadata": {},
   "outputs": [
    {
     "name": "stdout",
     "output_type": "stream",
     "text": [
      "\n",
      "Note: if you're in the IPython notebook, pyLDAvis.show() is not the best command\n",
      "      to use. Consider using pyLDAvis.display(), or pyLDAvis.enable_notebook().\n",
      "      See more information at http://pyLDAvis.github.io/quickstart.html .\n",
      "\n",
      "You must interrupt the kernel to end this command\n",
      "\n",
      "Serving to http://127.0.0.1:8891/    [Ctrl-C to exit]\n"
     ]
    },
    {
     "name": "stderr",
     "output_type": "stream",
     "text": [
      "127.0.0.1 - - [23/Mar/2022 14:03:02] \"GET / HTTP/1.1\" 200 -\n"
     ]
    }
   ],
   "source": [
    "#allows visualization in jupyter\n",
    "pyLDAvis.enable_notebook()\n",
    "vis = pyLDAvis.gensim_models.prepare(lda_model, corpus, id2word, mds=\"mmds\", R=30)\n",
    "pyLDAvis.show(vis, local=False)"
   ]
  },
  {
   "cell_type": "code",
   "execution_count": null,
   "id": "7e0bdaa6",
   "metadata": {},
   "outputs": [],
   "source": []
  }
 ],
 "metadata": {
  "kernelspec": {
   "display_name": "Python 3 (ipykernel)",
   "language": "python",
   "name": "python3"
  },
  "language_info": {
   "codemirror_mode": {
    "name": "ipython",
    "version": 3
   },
   "file_extension": ".py",
   "mimetype": "text/x-python",
   "name": "python",
   "nbconvert_exporter": "python",
   "pygments_lexer": "ipython3",
   "version": "3.9.7"
  }
 },
 "nbformat": 4,
 "nbformat_minor": 5
}
